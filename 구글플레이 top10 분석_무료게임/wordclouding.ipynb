{
 "cells": [
  {
   "cell_type": "code",
   "execution_count": 112,
   "metadata": {},
   "outputs": [
    {
     "data": {
      "text/html": [
       "<div>\n",
       "<style scoped>\n",
       "    .dataframe tbody tr th:only-of-type {\n",
       "        vertical-align: middle;\n",
       "    }\n",
       "\n",
       "    .dataframe tbody tr th {\n",
       "        vertical-align: top;\n",
       "    }\n",
       "\n",
       "    .dataframe thead th {\n",
       "        text-align: right;\n",
       "    }\n",
       "</style>\n",
       "<table border=\"1\" class=\"dataframe\">\n",
       "  <thead>\n",
       "    <tr style=\"text-align: right;\">\n",
       "      <th></th>\n",
       "      <th>날짜</th>\n",
       "      <th>평점</th>\n",
       "      <th>리뷰 내용</th>\n",
       "    </tr>\n",
       "  </thead>\n",
       "  <tbody>\n",
       "    <tr>\n",
       "      <th>0</th>\n",
       "      <td>2024년 2월 7일</td>\n",
       "      <td>2점</td>\n",
       "      <td>게임을 사흘 째 이용하는 사람입니다. 일단 장점과 단점을 말해드리자면, 장점은 자신...</td>\n",
       "    </tr>\n",
       "    <tr>\n",
       "      <th>1</th>\n",
       "      <td>2024년 2월 9일</td>\n",
       "      <td>2점</td>\n",
       "      <td>1. 획득한 골드를 광고를 보면 미니게임으로 1~4배 사이로 정해서 획득할 수 있는...</td>\n",
       "    </tr>\n",
       "    <tr>\n",
       "      <th>2</th>\n",
       "      <td>2024년 2월 25일</td>\n",
       "      <td>1점</td>\n",
       "      <td>5점이 왜케 많아 일단 광고 많은 건 기본임 한 판 끝나고 광고나옴 그리고 이벤트성...</td>\n",
       "    </tr>\n",
       "    <tr>\n",
       "      <th>3</th>\n",
       "      <td>2024년 2월 8일</td>\n",
       "      <td>1점</td>\n",
       "      <td>잘 만들었음 계속 중독성 있는 게임임 But 하지만 망겜임 하지만 되지도 않는 레벨...</td>\n",
       "    </tr>\n",
       "    <tr>\n",
       "      <th>4</th>\n",
       "      <td>2024년 3월 14일</td>\n",
       "      <td>1점</td>\n",
       "      <td>제가 15개 게임에 리뷰를 달았는데 그중에서 제일 안좋은것 같네요 원래 게임에도 1...</td>\n",
       "    </tr>\n",
       "    <tr>\n",
       "      <th>...</th>\n",
       "      <td>...</td>\n",
       "      <td>...</td>\n",
       "      <td>...</td>\n",
       "    </tr>\n",
       "    <tr>\n",
       "      <th>422</th>\n",
       "      <td>2024년 4월 19일</td>\n",
       "      <td>5점</td>\n",
       "      <td>재밌습니다^^</td>\n",
       "    </tr>\n",
       "    <tr>\n",
       "      <th>423</th>\n",
       "      <td>2024년 2월 12일</td>\n",
       "      <td>1점</td>\n",
       "      <td>광고 애바야</td>\n",
       "    </tr>\n",
       "    <tr>\n",
       "      <th>424</th>\n",
       "      <td>2023년 10월 14일</td>\n",
       "      <td>4점</td>\n",
       "      <td>광고</td>\n",
       "    </tr>\n",
       "    <tr>\n",
       "      <th>425</th>\n",
       "      <td>2023년 12월 10일</td>\n",
       "      <td>1점</td>\n",
       "      <td>광고...</td>\n",
       "    </tr>\n",
       "    <tr>\n",
       "      <th>426</th>\n",
       "      <td>2024년 4월 12일</td>\n",
       "      <td>5점</td>\n",
       "      <td>존잼</td>\n",
       "    </tr>\n",
       "  </tbody>\n",
       "</table>\n",
       "<p>427 rows × 3 columns</p>\n",
       "</div>"
      ],
      "text/plain": [
       "                날짜  평점                                              리뷰 내용\n",
       "0      2024년 2월 7일  2점  게임을 사흘 째 이용하는 사람입니다. 일단 장점과 단점을 말해드리자면, 장점은 자신...\n",
       "1      2024년 2월 9일  2점  1. 획득한 골드를 광고를 보면 미니게임으로 1~4배 사이로 정해서 획득할 수 있는...\n",
       "2     2024년 2월 25일  1점  5점이 왜케 많아 일단 광고 많은 건 기본임 한 판 끝나고 광고나옴 그리고 이벤트성...\n",
       "3      2024년 2월 8일  1점  잘 만들었음 계속 중독성 있는 게임임 But 하지만 망겜임 하지만 되지도 않는 레벨...\n",
       "4     2024년 3월 14일  1점  제가 15개 게임에 리뷰를 달았는데 그중에서 제일 안좋은것 같네요 원래 게임에도 1...\n",
       "..             ...  ..                                                ...\n",
       "422   2024년 4월 19일  5점                                            재밌습니다^^\n",
       "423   2024년 2월 12일  1점                                             광고 애바야\n",
       "424  2023년 10월 14일  4점                                                 광고\n",
       "425  2023년 12월 10일  1점                                              광고...\n",
       "426   2024년 4월 12일  5점                                                 존잼\n",
       "\n",
       "[427 rows x 3 columns]"
      ]
     },
     "execution_count": 112,
     "metadata": {},
     "output_type": "execute_result"
    }
   ],
   "source": [
    "import pandas as pd\n",
    "from wordcloud import WordCloud\n",
    "\n",
    "\n",
    "df = pd.read_excel('google_Snake_Clash_reviews.xlsx')\n",
    "\n",
    "df\n"
   ]
  },
  {
   "cell_type": "code",
   "execution_count": 113,
   "metadata": {},
   "outputs": [
    {
     "data": {
      "text/plain": [
       "0      게임을 사흘 째 이용하는 사람입니다  일단 장점과 단점을 말해드리자면  장점은 자신...\n",
       "1         획득한 골드를 광고를 보면 미니게임으로    배 사이로 정해서 획득할 수 있는...\n",
       "2       점이 왜케 많아 일단 광고 많은 건 기본임 한 판 끝나고 광고나옴 그리고 이벤트성...\n",
       "3      잘 만들었음 계속 중독성 있는 게임임     하지만 망겜임 하지만 되지도 않는 레벨...\n",
       "4      제가   개 게임에 리뷰를 달았는데 그중에서 제일 안좋은것 같네요 원래 게임에도  ...\n",
       "                             ...                        \n",
       "422                                              재밌습니다  \n",
       "423                                               광고 애바야\n",
       "424                                                   광고\n",
       "425                                                광고   \n",
       "426                                                   존잼\n",
       "Name: 리뷰 내용, Length: 427, dtype: object"
      ]
     },
     "execution_count": 113,
     "metadata": {},
     "output_type": "execute_result"
    }
   ],
   "source": [
    "df['리뷰 내용'] = df['리뷰 내용'].str.replace('[^가-힣]', ' ', regex = True)\n",
    "df['리뷰 내용']\n"
   ]
  },
  {
   "cell_type": "markdown",
   "metadata": {},
   "source": []
  },
  {
   "cell_type": "code",
   "execution_count": 114,
   "metadata": {},
   "outputs": [],
   "source": [
    "X = df['리뷰 내용']"
   ]
  },
  {
   "cell_type": "code",
   "execution_count": 115,
   "metadata": {},
   "outputs": [
    {
     "name": "stdout",
     "output_type": "stream",
     "text": [
      "[Noun Extractor] used default noun predictor; Sejong corpus predictor\n",
      "[Noun Extractor] used noun_predictor_sejong\n",
      "[Noun Extractor] All 2398 r features was loaded\n",
      "[Noun Extractor] scanning was done (L,R) has (363, 203) tokens\n",
      "[Noun Extractor] building L-R graph was done\n",
      "[Noun Extractor] 21 nouns are extracted\n"
     ]
    }
   ],
   "source": [
    "\n",
    "from soynlp.noun import LRNounExtractor # noun extracter v1\n",
    "noun_extractor = LRNounExtractor()\n",
    "nouns = noun_extractor.train_extract(X) # list of str like"
   ]
  },
  {
   "cell_type": "code",
   "execution_count": 116,
   "metadata": {},
   "outputs": [
    {
     "name": "stdout",
     "output_type": "stream",
     "text": [
      "The operation couldn’t be completed. Unable to locate a Java Runtime that supports apt.\n",
      "Please visit http://www.java.com for information on installing Java.\n",
      "\n"
     ]
    }
   ],
   "source": [
    "!apt -qq -y install fonts-nanum"
   ]
  },
  {
   "cell_type": "code",
   "execution_count": 117,
   "metadata": {},
   "outputs": [
    {
     "name": "stdout",
     "output_type": "stream",
     "text": [
      "['안보', '처음', '결제', '광고', '정도', '환불', '제거', '한판', '하나', '레벨', '시간', '구매', '보스', '봐야', '시작', '광고제', '플레이', '사람들', '제한시간', '광고제거', '업데이트']\n"
     ]
    }
   ],
   "source": [
    "print(list((nouns.keys()))[:200]) #v1 버전으로 추출한 명사 예시입니다"
   ]
  },
  {
   "cell_type": "code",
   "execution_count": 118,
   "metadata": {},
   "outputs": [
    {
     "name": "stdout",
     "output_type": "stream",
     "text": [
      "[Noun Extractor] used default noun predictor; Sejong corpus predictor\n",
      "[Noun Extractor] used noun_predictor_sejong\n",
      "[Noun Extractor] All 2398 r features was loaded\n",
      "[Noun Extractor] scanning was done (L,R) has (363, 203) tokens\n",
      "[Noun Extractor] building L-R graph was done\n",
      "[Noun Extractor] 21 nouns are extracted\n"
     ]
    }
   ],
   "source": [
    "# Import necessary libraries\n",
    "from soynlp.noun import LRNounExtractor\n",
    "from wordcloud import WordCloud\n",
    "import matplotlib.pyplot as plt\n",
    "\n",
    "# 명사 추출기를 초기화합니다.\n",
    "noun_extractor = LRNounExtractor()\n",
    "nouns = noun_extractor.train_extract(X)\n",
    "\n",
    "# 명사와 그 빈도를 딕셔너리로 추출합니다.\n",
    "frequencies = {noun: score.frequency for noun, score in nouns.items()}\n",
    "\n"
   ]
  },
  {
   "cell_type": "code",
   "execution_count": 119,
   "metadata": {},
   "outputs": [],
   "source": [
    "if '하나' in frequencies:\n",
    "    del frequencies['하나']\n"
   ]
  },
  {
   "cell_type": "code",
   "execution_count": 120,
   "metadata": {},
   "outputs": [],
   "source": [
    "if '게임' in frequencies:\n",
    "    del frequencies['게임']\n"
   ]
  },
  {
   "cell_type": "code",
   "execution_count": 121,
   "metadata": {},
   "outputs": [],
   "source": [
    "if '하지' in frequencies:\n",
    "    del frequencies['하지']\n"
   ]
  },
  {
   "cell_type": "code",
   "execution_count": 122,
   "metadata": {},
   "outputs": [],
   "source": [
    "if '로벅스로블' in frequencies:\n",
    "    del frequencies['로벅스로블']\n"
   ]
  },
  {
   "cell_type": "code",
   "execution_count": 123,
   "metadata": {},
   "outputs": [],
   "source": [
    "if '로블록스' in frequencies:\n",
    "    del frequencies['로블록스']\n"
   ]
  },
  {
   "cell_type": "code",
   "execution_count": 124,
   "metadata": {},
   "outputs": [
    {
     "data": {
      "text/plain": [
       "{'안보': 5,\n",
       " '처음': 6,\n",
       " '결제': 10,\n",
       " '광고': 219,\n",
       " '정도': 9,\n",
       " '환불': 16,\n",
       " '제거': 15,\n",
       " '한판': 16,\n",
       " '레벨': 17,\n",
       " '시간': 34,\n",
       " '구매': 8,\n",
       " '보스': 22,\n",
       " '봐야': 7,\n",
       " '시작': 3,\n",
       " '광고제': 1,\n",
       " '플레이': 11,\n",
       " '사람들': 5,\n",
       " '제한시간': 21,\n",
       " '광고제거': 41,\n",
       " '업데이트': 6}"
      ]
     },
     "execution_count": 124,
     "metadata": {},
     "output_type": "execute_result"
    }
   ],
   "source": [
    "frequencies"
   ]
  },
  {
   "cell_type": "code",
   "execution_count": 125,
   "metadata": {},
   "outputs": [],
   "source": [
    "if '로블' in frequencies:\n",
    "    del frequencies['로블']\n"
   ]
  },
  {
   "cell_type": "code",
   "execution_count": 126,
   "metadata": {},
   "outputs": [],
   "source": [
    "if '로벅스' in frequencies:\n",
    "    del frequencies['로벅스']\n"
   ]
  },
  {
   "cell_type": "code",
   "execution_count": 127,
   "metadata": {},
   "outputs": [],
   "source": [
    "if '안녕' in frequencies:\n",
    "    del frequencies['안녕']\n",
    "if '화면' in frequencies:\n",
    "    del frequencies['화면']\n"
   ]
  },
  {
   "cell_type": "code",
   "execution_count": 128,
   "metadata": {},
   "outputs": [],
   "source": [
    "if '감사' in frequencies:\n",
    "    del frequencies['감사']\n",
    "if '게임들' in frequencies:\n",
    "    del frequencies['게임들']\n"
   ]
  },
  {
   "cell_type": "code",
   "execution_count": 129,
   "metadata": {},
   "outputs": [
    {
     "data": {
      "image/png": "[encoded data removed]",
      "text/plain": [
       "<Figure size 1000x500 with 1 Axes>"
      ]
     },
     "metadata": {},
     "output_type": "display_data"
    }
   ],
   "source": [
    "# 워드 클라우드를 생성합니다.\n",
    "wordcloud = WordCloud(font_path='../../Library/fonts/NanumBarunGothic.otf', width=800, height=400).generate_from_frequencies(frequencies)\n",
    "\n",
    "# 워드 클라우드를 표시합니다.\n",
    "plt.figure(figsize=(10, 5))\n",
    "plt.imshow(wordcloud, interpolation='bilinear')\n",
    "plt.axis('off')  # 축 번호와 틱을 끕니다.\n",
    "plt.show()\n"
   ]
  }
 ],
 "metadata": {
  "kernelspec": {
   "display_name": "venv",
   "language": "python",
   "name": "venv"
  },
  "language_info": {
   "codemirror_mode": {
    "name": "ipython",
    "version": 3
   },
   "file_extension": ".py",
   "mimetype": "text/x-python",
   "name": "python",
   "nbconvert_exporter": "python",
   "pygments_lexer": "ipython3",
   "version": "3.12.3"
  }
 },
 "nbformat": 4,
 "nbformat_minor": 2
}
